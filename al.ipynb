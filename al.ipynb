{
 "cells": [
  {
   "cell_type": "code",
   "execution_count": null,
   "metadata": {},
   "outputs": [],
   "source": [
    "import pandas as pd\n",
    "import numpy as np"
   ]
  },
  {
   "cell_type": "code",
   "execution_count": null,
   "metadata": {},
   "outputs": [],
   "source": [
    "df_flora = pd.read_csv(r\"C:\\Users\\mecoa\\Documents\\MECOALIZA\\OneDrive\\DISSERTACAO\\Al.csv\", encoding='utf-8')\n",
    "print(df_flora)"
   ]
  },
  {
   "cell_type": "code",
   "execution_count": null,
   "metadata": {},
   "outputs": [],
   "source": [
    "df_flora.columns"
   ]
  },
  {
   "cell_type": "code",
   "execution_count": null,
   "metadata": {},
   "outputs": [],
   "source": [
    "print(df_flora[\"kingdom\"].unique())"
   ]
  },
  {
   "cell_type": "code",
   "execution_count": null,
   "metadata": {},
   "outputs": [],
   "source": [
    "df_flora.dtypes"
   ]
  },
  {
   "attachments": {},
   "cell_type": "markdown",
   "metadata": {},
   "source": [
    "* Tirar do campo Kingdom object '0' e 'Protista'"
   ]
  },
  {
   "cell_type": "code",
   "execution_count": null,
   "metadata": {},
   "outputs": [],
   "source": [
    "df_flora.query(\"kingdom != 'Protista'\")\n"
   ]
  },
  {
   "cell_type": "code",
   "execution_count": null,
   "metadata": {},
   "outputs": [],
   "source": [
    "df_1 = df_flora.query(\"kingdom != 'Protista'\")\n",
    "df_1"
   ]
  },
  {
   "attachments": {},
   "cell_type": "markdown",
   "metadata": {},
   "source": [
    "* Tratar todos os nomes das famílias "
   ]
  },
  {
   "cell_type": "code",
   "execution_count": null,
   "metadata": {},
   "outputs": [],
   "source": [
    "print(df_1[\"family\"].unique())\n",
    "df_1"
   ]
  },
  {
   "attachments": {},
   "cell_type": "markdown",
   "metadata": {},
   "source": [
    "* Subistituindo o nomes das famílas para os Atuais"
   ]
  },
  {
   "attachments": {},
   "cell_type": "markdown",
   "metadata": {},
   "source": [
    "* Excluindo os nomes das famílias que não são de Angiospermas"
   ]
  },
  {
   "cell_type": "code",
   "execution_count": null,
   "metadata": {},
   "outputs": [],
   "source": [
    "df_1 = df_1[~df_1['family'].str.contains(\"Woodsiaceae|Cyatheaceae|Thelypteridaceae|Dennstaedtiaceae|Blepharostomataceae|Rhodymeniaceae|Bryophyta|Mycenaceae\")]\n",
    "df_1 = df_1[~df_1['family'].str.contains(\"Fungi|Physciaceae|Ramalinaceae|Graphidaceae|Lichenes|Lophocoleaceae|Myxomycota|Picramniaceae|Dasycladaceae|Siphonocladaceae\")]\n",
    "df_1 = df_1[~df_1['family'].str.contains(\"Bryopsidaceae|Gyrocarpaceae|Hookeriaceae|Cantharellaceae|Batrachospermaceae|Halymeniaceae|Corynomorphaceae|Codiaceae|Nemalionaceae\")]\n",
    "df_1 = df_1[~df_1['family'].str.contains(\"Marattiaceae|Bartramiaceae|Calymperaceae|Plagiochilaceae|Opegraphaceae|Pilotrichaceae|Stereophyllaceae|Fissidentaceae|Meteoriaceae\")]\n",
    "df_1 = df_1[~df_1['family'].str.contains(\"Frulaniaceae|Orthotrichaceae|Pterobryaceae|Hypnaceae|Schizaeaceae|Vittariaceae|Tectariaceae|Bryaceae|Dicranaceae|Brachytheciaceae\")]\n",
    "df_1 = df_1[~df_1['family'].str.contains(\"Octoblepharaceae|Pteridophyta|Osmundaceae|Adiantaceae|Lygodiaceae|Metzgeriaceae|Neckeraceae|Nephrolepidaceae|Phyllogoniaceae|Radulaceae|Boodleaceae\")]\n",
    "df_1 = df_1[~df_1['family'].str.contains(\"Bangiaceae|Rhipiliaceae|Salviniaceae|Sargassaceae|Liagoraceae|Oscillatoriaceae|Marsileaceae|Rhizophyllidaceae|Gleicheniaceae|Gelidiaceae\")]\n",
    "df_1 = df_1[~df_1['family'].str.contains(\"Anemiaceae|Wrangeliaceae|Ceramiaceae|Parmeliaceae|Saccolomataceae|Cladophoraceae|Scytosiphonaceae|Lomentariaceae|Gigartinaceae\")]\n",
    "df_1 = df_1[~df_1['family'].str.contains(\"Characeae|Anadyomeniaceae|Anadiomenaceae|Asteronemataceae|Calypogeiaceae|Cladoniaceae|Cladophora|Cordiaceae|Leujeuneaceae|Hydrophyllaceae\")]\n",
    "df_1 = df_1[~df_1['family'].str.contains(\"Davalliaceae|Psathyrellaceae|Pterulaceae|Gomphaceae|Targioniaceae|Frullaniaceae|Galaxauraceae|Arthoniaceae|Tuberculatiaceae|Taxaceae\")]\n",
    "df_1 = df_1[~df_1['family'].str.contains(\"Tuberculatiaceae|Hepaticae|Rutenbergiaceae|Thuidiaceae|Undesignated|Racopilaceae|Halmeniaceae|Microteaceae|Metaxyaceae|Lindsaeaceae\")]\n",
    "df_1 = df_1[~df_1['family'].str.contains(\"Aglaothamnion|Bachelotiaceae|Notothyladaceae|Muntingiaceae|Cyatheacae|Delesseriaceae|Athyriaceae|Metteniusaceae|Erythrotrichiaceae\")]\n",
    "df_1 = df_1[~df_1['family'].str.contains(\"Pylaisiadelphaceae|Ischnosiphon|Picrodendraceae|Aneuraceae|Xylariaceae|Lydodiaceae|Cymodoceaceae|Aspleniaceae|Chenopodiaceae|Leucodantaceae\")]\n",
    "df_1 = df_1[~df_1['family'].str.contains(\"Acinetosporaceae|\")]\n",
    "df_1\n",
    "\n"
   ]
  },
  {
   "cell_type": "code",
   "execution_count": null,
   "metadata": {},
   "outputs": [],
   "source": [
    "df_1['family'] = df_1['family'].replace(['Cecropiaceae'], 'Urticaceae')\n",
    "df_1['family'] = df_1['family'].replace(['Myrsinaceae'], 'Primulaceae')\n",
    "df_1['family'] = df_1['family'].replace(['Flacourtiaceae'], 'Salicaceae')\n",
    "df_1['family'] = df_1['family'].replace(['Tiliaceae','Bombacaceae'], 'Malvaceae')\n",
    "df_1['family'] = df_1['family'].replace(['Asclepiadaceae','Matelea'], 'Apocynaceae')\n",
    "df_1['family'] = df_1['family'].replace(['0','Famille'], 'Não Informada')\n",
    "df_1['family'] = df_1['family'].replace(['Passifloraceae-Turne.'], 'Passifloraceae')\n",
    "df_1['family'] = df_1['family'].replace(['Passifloraceae-Turne.','Passifloraceae-Pass.'], 'Passifloraceae')\n",
    "df_1['family'] = df_1['family'].replace(['Leguminosae-Pap','Fabaceae-Cerc.','Leguminosae-Caes'], 'Fabaceae')\n",
    "df_1['family'] = df_1['family'].replace(['Leguminosae','Leguminosae-Caes.','Leguminosae-Mim.','Papilionaceae','Leguminosae-Pap.','Fabaceae-Mimo.','Fabaceae-Papi.','Fabaceae-Caes.','Fabaceae-Mimosoideae'], 'Fabaceae')\n",
    "df_1['family'] = df_1['family'].replace(['Covolvulaceae'], 'Convolvulaceae')\n",
    "df_1['family'] = df_1['family'].replace(['Compositae'], 'Asteraceae')\n",
    "df_1['family'] = df_1['family'].replace(['Guttiferae'], 'Clusiaceae')\n",
    "df_1['family'] = df_1['family'].replace(['Hippocrateaceae'], 'Celastraceae')\n",
    "df_1['family'] = df_1['family'].replace(['Labiatae'], 'Lamiaceae')\n",
    "df_1['family'] = df_1['family'].replace(['Erythropalaceae'], 'Erythroxylaceae')\n",
    "df_1['family'] = df_1['family'].replace(['Panicoideae'], 'Poaceae')\n",
    "df_1['family'] = df_1['family'].replace(['Podostemonaceae'], 'Podostemaceae')\n",
    "df_1['family'] = df_1['family'].replace(['Lythaceae'], 'Lythraceae')\n",
    "df_1['family'] = df_1['family'].replace(['Limnocharitaceae'], 'Alismataceae')\n",
    "df_1['family'] = df_1['family'].replace(['Limnocharitaceae'], 'Alismataceae')"
   ]
  }
 ],
 "metadata": {
  "kernelspec": {
   "display_name": "Python 3",
   "language": "python",
   "name": "python3"
  },
  "language_info": {
   "codemirror_mode": {
    "name": "ipython",
    "version": 3
   },
   "file_extension": ".py",
   "mimetype": "text/x-python",
   "name": "python",
   "nbconvert_exporter": "python",
   "pygments_lexer": "ipython3",
   "version": "3.11.0"
  },
  "orig_nbformat": 4,
  "vscode": {
   "interpreter": {
    "hash": "d37e56765b6c963dc631107db850fa84af2d75bbb70b180ab098c5e108f8dbd6"
   }
  }
 },
 "nbformat": 4,
 "nbformat_minor": 2
}
